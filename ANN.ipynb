{
  "nbformat": 4,
  "nbformat_minor": 0,
  "metadata": {
    "colab": {
      "provenance": [],
      "authorship_tag": "ABX9TyMEKrD69u9lVlk6BnrNZFMa",
      "include_colab_link": true
    },
    "kernelspec": {
      "name": "python3",
      "display_name": "Python 3"
    },
    "language_info": {
      "name": "python"
    }
  },
  "cells": [
    {
      "cell_type": "markdown",
      "metadata": {
        "id": "view-in-github",
        "colab_type": "text"
      },
      "source": [
        "<a href=\"https://colab.research.google.com/github/RGanesh2703/Artificial-Neural-Network-/blob/main/ANN.ipynb\" target=\"_parent\"><img src=\"https://colab.research.google.com/assets/colab-badge.svg\" alt=\"Open In Colab\"/></a>"
      ]
    },
    {
      "cell_type": "code",
      "source": [
        "import pandas as pd\n",
        "import numpy as np\n",
        "import matplotlib.pyplot as plt"
      ],
      "metadata": {
        "id": "MGbTluMeg0ZE"
      },
      "execution_count": null,
      "outputs": []
    },
    {
      "cell_type": "code",
      "source": [
        "fp = pd.read_csv('Churn_Modelling.csv')\n",
        "X = fp.iloc[:,3:13]\n",
        "Y = fp.iloc[:,13]"
      ],
      "metadata": {
        "id": "hls0rMaKiOiV"
      },
      "execution_count": null,
      "outputs": []
    },
    {
      "cell_type": "code",
      "source": [
        "geo = pd.get_dummies(X[\"Geography\"],drop_first=True)\n",
        "gen = pd.get_dummies(X[\"Gender\"],drop_first=True)"
      ],
      "metadata": {
        "id": "0YAujMvEi3v7"
      },
      "execution_count": null,
      "outputs": []
    },
    {
      "cell_type": "code",
      "source": [
        "X = pd.concat([X,geo,gen],axis=1)"
      ],
      "metadata": {
        "id": "dfc1zD3BjVf3"
      },
      "execution_count": null,
      "outputs": []
    },
    {
      "cell_type": "code",
      "source": [
        "X = X.drop([\"Geography\",\"Gender\"],axis=1)"
      ],
      "metadata": {
        "id": "jjC7vl_Yjho2"
      },
      "execution_count": null,
      "outputs": []
    },
    {
      "cell_type": "code",
      "source": [
        "from sklearn.model_selection import train_test_split\n",
        "X_train, X_test, Y_train, Y_test = train_test_split(X, Y, test_size=0.2,random_state=0)"
      ],
      "metadata": {
        "id": "YO1VdScYjs6Q"
      },
      "execution_count": null,
      "outputs": []
    },
    {
      "cell_type": "code",
      "source": [
        "from sklearn.preprocessing import StandardScaler\n",
        "sc = StandardScaler()\n",
        "X_train = sc.fit_transform(X_train)\n",
        "X_test = sc.transform(X_test)"
      ],
      "metadata": {
        "id": "2jgWnS8ukuCN"
      },
      "execution_count": null,
      "outputs": []
    },
    {
      "cell_type": "markdown",
      "source": [
        "ANN"
      ],
      "metadata": {
        "id": "2GOozAYpl7mI"
      }
    },
    {
      "cell_type": "code",
      "source": [
        "import keras\n",
        "from keras.models import Sequential\n",
        "from keras.layers import Dense\n",
        "#from keras.layers import Dropout"
      ],
      "metadata": {
        "id": "Ok7cGR7Yl99t"
      },
      "execution_count": null,
      "outputs": []
    },
    {
      "cell_type": "code",
      "source": [
        "model = Sequential()"
      ],
      "metadata": {
        "id": "bmWNHkX1muqZ"
      },
      "execution_count": null,
      "outputs": []
    },
    {
      "cell_type": "code",
      "source": [
        "model.add(Dense(units=6, kernel_initializer='he_uniform', activation='relu', input_dim = 11))\n",
        "model.add(Dense(units=6, kernel_initializer='he_uniform', activation='relu'))\n",
        "model.add(Dense(units=1, kernel_initializer='glorot_uniform', activation='sigmoid'))"
      ],
      "metadata": {
        "id": "3NtIFGJ1mzGP"
      },
      "execution_count": null,
      "outputs": []
    },
    {
      "cell_type": "code",
      "source": [
        "model.compile(optimizer='adam', loss='binary_crossentropy', metrics=['accuracy'])"
      ],
      "metadata": {
        "id": "cmX_qv299usw"
      },
      "execution_count": null,
      "outputs": []
    },
    {
      "cell_type": "code",
      "source": [
        "model_history=model.fit(X_train, Y_train, validation_split=0.33, batch_size=10, epochs = 100)"
      ],
      "metadata": {
        "colab": {
          "base_uri": "https://localhost:8080/"
        },
        "id": "Huyl81pP-CIf",
        "outputId": "4077b76a-9bb4-4362-c08f-192f4b041b48"
      },
      "execution_count": null,
      "outputs": [
        {
          "output_type": "stream",
          "name": "stdout",
          "text": [
            "Epoch 1/100\n",
            "536/536 [==============================] - 4s 4ms/step - loss: 0.6300 - accuracy: 0.6680 - val_loss: 0.5140 - val_accuracy: 0.7989\n",
            "Epoch 2/100\n",
            "536/536 [==============================] - 1s 2ms/step - loss: 0.4738 - accuracy: 0.8016 - val_loss: 0.4611 - val_accuracy: 0.8058\n",
            "Epoch 3/100\n",
            "536/536 [==============================] - 1s 2ms/step - loss: 0.4309 - accuracy: 0.8166 - val_loss: 0.4350 - val_accuracy: 0.8171\n",
            "Epoch 4/100\n",
            "536/536 [==============================] - 1s 2ms/step - loss: 0.4052 - accuracy: 0.8285 - val_loss: 0.4138 - val_accuracy: 0.8236\n",
            "Epoch 5/100\n",
            "536/536 [==============================] - 1s 2ms/step - loss: 0.3849 - accuracy: 0.8378 - val_loss: 0.3975 - val_accuracy: 0.8334\n",
            "Epoch 6/100\n",
            "536/536 [==============================] - 1s 2ms/step - loss: 0.3723 - accuracy: 0.8438 - val_loss: 0.3894 - val_accuracy: 0.8353\n",
            "Epoch 7/100\n",
            "536/536 [==============================] - 2s 3ms/step - loss: 0.3647 - accuracy: 0.8453 - val_loss: 0.3836 - val_accuracy: 0.8391\n",
            "Epoch 8/100\n",
            "536/536 [==============================] - 2s 3ms/step - loss: 0.3602 - accuracy: 0.8462 - val_loss: 0.3789 - val_accuracy: 0.8417\n",
            "Epoch 9/100\n",
            "536/536 [==============================] - 1s 2ms/step - loss: 0.3567 - accuracy: 0.8515 - val_loss: 0.3755 - val_accuracy: 0.8440\n",
            "Epoch 10/100\n",
            "536/536 [==============================] - 1s 2ms/step - loss: 0.3538 - accuracy: 0.8498 - val_loss: 0.3733 - val_accuracy: 0.8429\n",
            "Epoch 11/100\n",
            "536/536 [==============================] - 1s 2ms/step - loss: 0.3516 - accuracy: 0.8518 - val_loss: 0.3709 - val_accuracy: 0.8451\n",
            "Epoch 12/100\n",
            "536/536 [==============================] - 1s 2ms/step - loss: 0.3489 - accuracy: 0.8561 - val_loss: 0.3679 - val_accuracy: 0.8478\n",
            "Epoch 13/100\n",
            "536/536 [==============================] - 1s 2ms/step - loss: 0.3475 - accuracy: 0.8586 - val_loss: 0.3660 - val_accuracy: 0.8482\n",
            "Epoch 14/100\n",
            "536/536 [==============================] - 1s 2ms/step - loss: 0.3454 - accuracy: 0.8580 - val_loss: 0.3639 - val_accuracy: 0.8501\n",
            "Epoch 15/100\n",
            "536/536 [==============================] - 1s 2ms/step - loss: 0.3434 - accuracy: 0.8608 - val_loss: 0.3637 - val_accuracy: 0.8504\n",
            "Epoch 16/100\n",
            "536/536 [==============================] - 1s 3ms/step - loss: 0.3419 - accuracy: 0.8604 - val_loss: 0.3610 - val_accuracy: 0.8493\n",
            "Epoch 17/100\n",
            "536/536 [==============================] - 2s 3ms/step - loss: 0.3408 - accuracy: 0.8612 - val_loss: 0.3606 - val_accuracy: 0.8493\n",
            "Epoch 18/100\n",
            "536/536 [==============================] - 1s 2ms/step - loss: 0.3392 - accuracy: 0.8623 - val_loss: 0.3586 - val_accuracy: 0.8512\n",
            "Epoch 19/100\n",
            "536/536 [==============================] - 1s 2ms/step - loss: 0.3375 - accuracy: 0.8632 - val_loss: 0.3557 - val_accuracy: 0.8527\n",
            "Epoch 20/100\n",
            "536/536 [==============================] - 1s 2ms/step - loss: 0.3363 - accuracy: 0.8643 - val_loss: 0.3554 - val_accuracy: 0.8527\n",
            "Epoch 21/100\n",
            "536/536 [==============================] - 1s 2ms/step - loss: 0.3356 - accuracy: 0.8671 - val_loss: 0.3536 - val_accuracy: 0.8565\n",
            "Epoch 22/100\n",
            "536/536 [==============================] - 1s 2ms/step - loss: 0.3343 - accuracy: 0.8647 - val_loss: 0.3521 - val_accuracy: 0.8573\n",
            "Epoch 23/100\n",
            "536/536 [==============================] - 1s 2ms/step - loss: 0.3336 - accuracy: 0.8670 - val_loss: 0.3533 - val_accuracy: 0.8538\n",
            "Epoch 24/100\n",
            "536/536 [==============================] - 1s 2ms/step - loss: 0.3333 - accuracy: 0.8647 - val_loss: 0.3515 - val_accuracy: 0.8538\n",
            "Epoch 25/100\n",
            "536/536 [==============================] - 1s 2ms/step - loss: 0.3321 - accuracy: 0.8658 - val_loss: 0.3525 - val_accuracy: 0.8542\n",
            "Epoch 26/100\n",
            "536/536 [==============================] - 2s 3ms/step - loss: 0.3318 - accuracy: 0.8642 - val_loss: 0.3505 - val_accuracy: 0.8565\n",
            "Epoch 27/100\n",
            "536/536 [==============================] - 2s 3ms/step - loss: 0.3310 - accuracy: 0.8662 - val_loss: 0.3498 - val_accuracy: 0.8599\n",
            "Epoch 28/100\n",
            "536/536 [==============================] - 1s 2ms/step - loss: 0.3315 - accuracy: 0.8642 - val_loss: 0.3501 - val_accuracy: 0.8550\n",
            "Epoch 29/100\n",
            "536/536 [==============================] - 1s 2ms/step - loss: 0.3303 - accuracy: 0.8655 - val_loss: 0.3500 - val_accuracy: 0.8557\n",
            "Epoch 30/100\n",
            "536/536 [==============================] - 1s 2ms/step - loss: 0.3298 - accuracy: 0.8643 - val_loss: 0.3505 - val_accuracy: 0.8569\n",
            "Epoch 31/100\n",
            "536/536 [==============================] - 1s 2ms/step - loss: 0.3296 - accuracy: 0.8636 - val_loss: 0.3490 - val_accuracy: 0.8584\n",
            "Epoch 32/100\n",
            "536/536 [==============================] - 1s 2ms/step - loss: 0.3297 - accuracy: 0.8642 - val_loss: 0.3491 - val_accuracy: 0.8595\n",
            "Epoch 33/100\n",
            "536/536 [==============================] - 1s 2ms/step - loss: 0.3291 - accuracy: 0.8638 - val_loss: 0.3488 - val_accuracy: 0.8550\n",
            "Epoch 34/100\n",
            "536/536 [==============================] - 1s 2ms/step - loss: 0.3292 - accuracy: 0.8636 - val_loss: 0.3491 - val_accuracy: 0.8557\n",
            "Epoch 35/100\n",
            "536/536 [==============================] - 1s 2ms/step - loss: 0.3288 - accuracy: 0.8653 - val_loss: 0.3501 - val_accuracy: 0.8603\n",
            "Epoch 36/100\n",
            "536/536 [==============================] - 2s 4ms/step - loss: 0.3290 - accuracy: 0.8634 - val_loss: 0.3486 - val_accuracy: 0.8580\n",
            "Epoch 37/100\n",
            "536/536 [==============================] - 1s 2ms/step - loss: 0.3284 - accuracy: 0.8666 - val_loss: 0.3486 - val_accuracy: 0.8599\n",
            "Epoch 38/100\n",
            "536/536 [==============================] - 1s 2ms/step - loss: 0.3285 - accuracy: 0.8643 - val_loss: 0.3499 - val_accuracy: 0.8607\n",
            "Epoch 39/100\n",
            "536/536 [==============================] - 1s 2ms/step - loss: 0.3280 - accuracy: 0.8634 - val_loss: 0.3484 - val_accuracy: 0.8576\n",
            "Epoch 40/100\n",
            "536/536 [==============================] - 1s 2ms/step - loss: 0.3274 - accuracy: 0.8643 - val_loss: 0.3490 - val_accuracy: 0.8576\n",
            "Epoch 41/100\n",
            "536/536 [==============================] - 1s 2ms/step - loss: 0.3280 - accuracy: 0.8649 - val_loss: 0.3497 - val_accuracy: 0.8588\n",
            "Epoch 42/100\n",
            "536/536 [==============================] - 1s 2ms/step - loss: 0.3276 - accuracy: 0.8643 - val_loss: 0.3502 - val_accuracy: 0.8588\n",
            "Epoch 43/100\n",
            "536/536 [==============================] - 1s 2ms/step - loss: 0.3278 - accuracy: 0.8636 - val_loss: 0.3488 - val_accuracy: 0.8588\n",
            "Epoch 44/100\n",
            "536/536 [==============================] - 1s 2ms/step - loss: 0.3278 - accuracy: 0.8627 - val_loss: 0.3489 - val_accuracy: 0.8584\n",
            "Epoch 45/100\n",
            "536/536 [==============================] - 2s 3ms/step - loss: 0.3281 - accuracy: 0.8642 - val_loss: 0.3486 - val_accuracy: 0.8599\n",
            "Epoch 46/100\n",
            "536/536 [==============================] - 2s 3ms/step - loss: 0.3273 - accuracy: 0.8660 - val_loss: 0.3502 - val_accuracy: 0.8588\n",
            "Epoch 47/100\n",
            "536/536 [==============================] - 1s 2ms/step - loss: 0.3272 - accuracy: 0.8655 - val_loss: 0.3510 - val_accuracy: 0.8573\n",
            "Epoch 48/100\n",
            "536/536 [==============================] - 1s 2ms/step - loss: 0.3272 - accuracy: 0.8666 - val_loss: 0.3510 - val_accuracy: 0.8580\n",
            "Epoch 49/100\n",
            "536/536 [==============================] - 1s 2ms/step - loss: 0.3273 - accuracy: 0.8673 - val_loss: 0.3491 - val_accuracy: 0.8569\n",
            "Epoch 50/100\n",
            "536/536 [==============================] - 1s 2ms/step - loss: 0.3274 - accuracy: 0.8653 - val_loss: 0.3480 - val_accuracy: 0.8607\n",
            "Epoch 51/100\n",
            "536/536 [==============================] - 2s 3ms/step - loss: 0.3271 - accuracy: 0.8638 - val_loss: 0.3480 - val_accuracy: 0.8591\n",
            "Epoch 52/100\n",
            "536/536 [==============================] - 1s 2ms/step - loss: 0.3266 - accuracy: 0.8673 - val_loss: 0.3482 - val_accuracy: 0.8584\n",
            "Epoch 53/100\n",
            "536/536 [==============================] - 1s 2ms/step - loss: 0.3269 - accuracy: 0.8668 - val_loss: 0.3486 - val_accuracy: 0.8607\n",
            "Epoch 54/100\n",
            "536/536 [==============================] - 1s 3ms/step - loss: 0.3268 - accuracy: 0.8668 - val_loss: 0.3485 - val_accuracy: 0.8622\n",
            "Epoch 55/100\n",
            "536/536 [==============================] - 2s 3ms/step - loss: 0.3268 - accuracy: 0.8636 - val_loss: 0.3487 - val_accuracy: 0.8607\n",
            "Epoch 56/100\n",
            "536/536 [==============================] - 1s 2ms/step - loss: 0.3268 - accuracy: 0.8655 - val_loss: 0.3480 - val_accuracy: 0.8595\n",
            "Epoch 57/100\n",
            "536/536 [==============================] - 1s 2ms/step - loss: 0.3265 - accuracy: 0.8645 - val_loss: 0.3480 - val_accuracy: 0.8603\n",
            "Epoch 58/100\n",
            "536/536 [==============================] - 1s 2ms/step - loss: 0.3264 - accuracy: 0.8662 - val_loss: 0.3508 - val_accuracy: 0.8603\n",
            "Epoch 59/100\n",
            "536/536 [==============================] - 1s 2ms/step - loss: 0.3267 - accuracy: 0.8655 - val_loss: 0.3478 - val_accuracy: 0.8588\n",
            "Epoch 60/100\n",
            "536/536 [==============================] - 1s 2ms/step - loss: 0.3264 - accuracy: 0.8656 - val_loss: 0.3487 - val_accuracy: 0.8576\n",
            "Epoch 61/100\n",
            "536/536 [==============================] - 1s 2ms/step - loss: 0.3264 - accuracy: 0.8660 - val_loss: 0.3492 - val_accuracy: 0.8554\n",
            "Epoch 62/100\n",
            "536/536 [==============================] - 1s 2ms/step - loss: 0.3266 - accuracy: 0.8642 - val_loss: 0.3476 - val_accuracy: 0.8591\n",
            "Epoch 63/100\n",
            "536/536 [==============================] - 1s 2ms/step - loss: 0.3265 - accuracy: 0.8660 - val_loss: 0.3483 - val_accuracy: 0.8614\n",
            "Epoch 64/100\n",
            "536/536 [==============================] - 2s 3ms/step - loss: 0.3265 - accuracy: 0.8656 - val_loss: 0.3487 - val_accuracy: 0.8595\n",
            "Epoch 65/100\n",
            "536/536 [==============================] - 1s 3ms/step - loss: 0.3263 - accuracy: 0.8647 - val_loss: 0.3478 - val_accuracy: 0.8599\n",
            "Epoch 66/100\n",
            "536/536 [==============================] - 1s 2ms/step - loss: 0.3258 - accuracy: 0.8656 - val_loss: 0.3481 - val_accuracy: 0.8584\n",
            "Epoch 67/100\n",
            "536/536 [==============================] - 1s 2ms/step - loss: 0.3261 - accuracy: 0.8670 - val_loss: 0.3491 - val_accuracy: 0.8610\n",
            "Epoch 68/100\n",
            "536/536 [==============================] - 1s 2ms/step - loss: 0.3263 - accuracy: 0.8653 - val_loss: 0.3492 - val_accuracy: 0.8599\n",
            "Epoch 69/100\n",
            "536/536 [==============================] - 1s 2ms/step - loss: 0.3260 - accuracy: 0.8668 - val_loss: 0.3478 - val_accuracy: 0.8599\n",
            "Epoch 70/100\n",
            "536/536 [==============================] - 1s 2ms/step - loss: 0.3262 - accuracy: 0.8653 - val_loss: 0.3481 - val_accuracy: 0.8607\n",
            "Epoch 71/100\n",
            "536/536 [==============================] - 1s 2ms/step - loss: 0.3262 - accuracy: 0.8673 - val_loss: 0.3490 - val_accuracy: 0.8599\n",
            "Epoch 72/100\n",
            "536/536 [==============================] - 1s 2ms/step - loss: 0.3258 - accuracy: 0.8658 - val_loss: 0.3481 - val_accuracy: 0.8599\n",
            "Epoch 73/100\n",
            "536/536 [==============================] - 2s 3ms/step - loss: 0.3258 - accuracy: 0.8666 - val_loss: 0.3485 - val_accuracy: 0.8588\n",
            "Epoch 74/100\n",
            "536/536 [==============================] - 2s 3ms/step - loss: 0.3258 - accuracy: 0.8670 - val_loss: 0.3480 - val_accuracy: 0.8580\n",
            "Epoch 75/100\n",
            "536/536 [==============================] - 1s 2ms/step - loss: 0.3260 - accuracy: 0.8675 - val_loss: 0.3479 - val_accuracy: 0.8580\n",
            "Epoch 76/100\n",
            "536/536 [==============================] - 1s 2ms/step - loss: 0.3253 - accuracy: 0.8655 - val_loss: 0.3523 - val_accuracy: 0.8607\n",
            "Epoch 77/100\n",
            "536/536 [==============================] - 2s 3ms/step - loss: 0.3260 - accuracy: 0.8658 - val_loss: 0.3476 - val_accuracy: 0.8584\n",
            "Epoch 78/100\n",
            "536/536 [==============================] - 1s 2ms/step - loss: 0.3258 - accuracy: 0.8673 - val_loss: 0.3477 - val_accuracy: 0.8599\n",
            "Epoch 79/100\n",
            "536/536 [==============================] - 1s 2ms/step - loss: 0.3257 - accuracy: 0.8664 - val_loss: 0.3511 - val_accuracy: 0.8584\n",
            "Epoch 80/100\n",
            "536/536 [==============================] - 1s 2ms/step - loss: 0.3258 - accuracy: 0.8671 - val_loss: 0.3471 - val_accuracy: 0.8607\n",
            "Epoch 81/100\n",
            "536/536 [==============================] - 1s 2ms/step - loss: 0.3252 - accuracy: 0.8673 - val_loss: 0.3486 - val_accuracy: 0.8591\n",
            "Epoch 82/100\n",
            "536/536 [==============================] - 1s 2ms/step - loss: 0.3256 - accuracy: 0.8681 - val_loss: 0.3496 - val_accuracy: 0.8607\n",
            "Epoch 83/100\n",
            "536/536 [==============================] - 2s 3ms/step - loss: 0.3251 - accuracy: 0.8673 - val_loss: 0.3473 - val_accuracy: 0.8599\n",
            "Epoch 84/100\n",
            "536/536 [==============================] - 1s 3ms/step - loss: 0.3253 - accuracy: 0.8681 - val_loss: 0.3473 - val_accuracy: 0.8595\n",
            "Epoch 85/100\n",
            "536/536 [==============================] - 1s 2ms/step - loss: 0.3250 - accuracy: 0.8660 - val_loss: 0.3476 - val_accuracy: 0.8588\n",
            "Epoch 86/100\n",
            "536/536 [==============================] - 1s 2ms/step - loss: 0.3244 - accuracy: 0.8673 - val_loss: 0.3479 - val_accuracy: 0.8629\n",
            "Epoch 87/100\n",
            "536/536 [==============================] - 1s 2ms/step - loss: 0.3253 - accuracy: 0.8670 - val_loss: 0.3472 - val_accuracy: 0.8569\n",
            "Epoch 88/100\n",
            "536/536 [==============================] - 1s 2ms/step - loss: 0.3253 - accuracy: 0.8677 - val_loss: 0.3477 - val_accuracy: 0.8599\n",
            "Epoch 89/100\n",
            "536/536 [==============================] - 1s 2ms/step - loss: 0.3252 - accuracy: 0.8679 - val_loss: 0.3471 - val_accuracy: 0.8603\n",
            "Epoch 90/100\n",
            "536/536 [==============================] - 1s 2ms/step - loss: 0.3251 - accuracy: 0.8673 - val_loss: 0.3473 - val_accuracy: 0.8580\n",
            "Epoch 91/100\n",
            "536/536 [==============================] - 1s 2ms/step - loss: 0.3250 - accuracy: 0.8666 - val_loss: 0.3476 - val_accuracy: 0.8603\n",
            "Epoch 92/100\n",
            "536/536 [==============================] - 1s 3ms/step - loss: 0.3249 - accuracy: 0.8673 - val_loss: 0.3479 - val_accuracy: 0.8580\n",
            "Epoch 93/100\n",
            "536/536 [==============================] - 2s 3ms/step - loss: 0.3248 - accuracy: 0.8673 - val_loss: 0.3469 - val_accuracy: 0.8595\n",
            "Epoch 94/100\n",
            "536/536 [==============================] - 1s 2ms/step - loss: 0.3248 - accuracy: 0.8683 - val_loss: 0.3472 - val_accuracy: 0.8607\n",
            "Epoch 95/100\n",
            "536/536 [==============================] - 1s 2ms/step - loss: 0.3243 - accuracy: 0.8673 - val_loss: 0.3487 - val_accuracy: 0.8584\n",
            "Epoch 96/100\n",
            "536/536 [==============================] - 1s 2ms/step - loss: 0.3245 - accuracy: 0.8671 - val_loss: 0.3486 - val_accuracy: 0.8595\n",
            "Epoch 97/100\n",
            "536/536 [==============================] - 1s 2ms/step - loss: 0.3241 - accuracy: 0.8673 - val_loss: 0.3485 - val_accuracy: 0.8591\n",
            "Epoch 98/100\n",
            "536/536 [==============================] - 1s 2ms/step - loss: 0.3241 - accuracy: 0.8653 - val_loss: 0.3473 - val_accuracy: 0.8588\n",
            "Epoch 99/100\n",
            "536/536 [==============================] - 1s 2ms/step - loss: 0.3239 - accuracy: 0.8684 - val_loss: 0.3472 - val_accuracy: 0.8573\n",
            "Epoch 100/100\n",
            "536/536 [==============================] - 1s 2ms/step - loss: 0.3238 - accuracy: 0.8668 - val_loss: 0.3464 - val_accuracy: 0.8610\n"
          ]
        }
      ]
    },
    {
      "cell_type": "code",
      "source": [
        "model.summary()"
      ],
      "metadata": {
        "colab": {
          "base_uri": "https://localhost:8080/"
        },
        "id": "LTscot5D_ZPW",
        "outputId": "e71ff48f-c602-4a17-a3b8-e7cd9b37a591"
      },
      "execution_count": null,
      "outputs": [
        {
          "output_type": "stream",
          "name": "stdout",
          "text": [
            "Model: \"sequential\"\n",
            "_________________________________________________________________\n",
            " Layer (type)                Output Shape              Param #   \n",
            "=================================================================\n",
            " dense (Dense)               (None, 6)                 72        \n",
            "                                                                 \n",
            " dense_1 (Dense)             (None, 6)                 42        \n",
            "                                                                 \n",
            " dense_2 (Dense)             (None, 1)                 7         \n",
            "                                                                 \n",
            "=================================================================\n",
            "Total params: 121 (484.00 Byte)\n",
            "Trainable params: 121 (484.00 Byte)\n",
            "Non-trainable params: 0 (0.00 Byte)\n",
            "_________________________________________________________________\n"
          ]
        }
      ]
    },
    {
      "cell_type": "code",
      "source": [
        "print(model_history.history.keys())"
      ],
      "metadata": {
        "colab": {
          "base_uri": "https://localhost:8080/"
        },
        "id": "X368tfo0_jQB",
        "outputId": "78109df8-1238-409e-9305-a95ad8426f77"
      },
      "execution_count": null,
      "outputs": [
        {
          "output_type": "stream",
          "name": "stdout",
          "text": [
            "dict_keys(['loss', 'accuracy', 'val_loss', 'val_accuracy'])\n"
          ]
        }
      ]
    },
    {
      "cell_type": "code",
      "source": [
        "plt.plot(model_history.history['accuracy'])\n",
        "plt.plot(model_history.history['val_accuracy'])\n",
        "plt.title('model accuracy')\n",
        "plt.ylabel('accuracy')\n",
        "plt.xlabel('epoch')\n",
        "plt.legend(['train', 'test'], loc='upper left')\n",
        "plt.show()"
      ],
      "metadata": {
        "colab": {
          "base_uri": "https://localhost:8080/",
          "height": 472
        },
        "id": "SWl5E4rs_zhq",
        "outputId": "d3fa03ea-98a9-4ab6-8e4d-593a1c373ed0"
      },
      "execution_count": null,
      "outputs": [
        {
          "output_type": "display_data",
          "data": {
            "text/plain": [
              "<Figure size 640x480 with 1 Axes>"
            ],
            "image/png": "[encoded data removed]"
          },
          "metadata": {}
        }
      ]
    },
    {
      "cell_type": "code",
      "source": [
        "plt.plot(model_history.history['loss'])\n",
        "plt.plot(model_history.history['val_loss'])\n",
        "plt.title('model loss')\n",
        "plt.ylabel('loss')\n",
        "plt.xlabel('epoch')\n",
        "plt.legend(['train', 'test'], loc='upper left')\n",
        "plt.show()"
      ],
      "metadata": {
        "colab": {
          "base_uri": "https://localhost:8080/",
          "height": 472
        },
        "id": "W9LiFg5vAfRJ",
        "outputId": "3060e5e7-e5ee-43fd-8a6b-8ac1e4d66046"
      },
      "execution_count": null,
      "outputs": [
        {
          "output_type": "display_data",
          "data": {
            "text/plain": [
              "<Figure size 640x480 with 1 Axes>"
            ],
            "image/png": "[encoded data removed]"
          },
          "metadata": {}
        }
      ]
    },
    {
      "cell_type": "code",
      "source": [
        "y_pred = model.predict(X_test)\n",
        "y_pred = (y_pred > 0.5)"
      ],
      "metadata": {
        "colab": {
          "base_uri": "https://localhost:8080/"
        },
        "id": "eHDRHpgoA48W",
        "outputId": "6f913818-592e-4cac-a24c-389477e10502"
      },
      "execution_count": null,
      "outputs": [
        {
          "output_type": "stream",
          "name": "stdout",
          "text": [
            "63/63 [==============================] - 0s 1ms/step\n"
          ]
        }
      ]
    },
    {
      "cell_type": "code",
      "source": [
        "from sklearn.metrics import confusion_matrix\n",
        "cm = confusion_matrix(Y_test, y_pred)\n",
        "# print(\"Confusion Matrix:\")\n",
        "# print(cm)"
      ],
      "metadata": {
        "id": "JTZaqbIUBMGP"
      },
      "execution_count": null,
      "outputs": []
    },
    {
      "cell_type": "code",
      "source": [
        "from sklearn.metrics import accuracy_score\n",
        "score=accuracy_score(y_pred,Y_test)\n",
        "print(score)"
      ],
      "metadata": {
        "colab": {
          "base_uri": "https://localhost:8080/"
        },
        "id": "vM64tkAMBaWb",
        "outputId": "368fe360-70f2-4115-9412-2bb0eb7b4462"
      },
      "execution_count": null,
      "outputs": [
        {
          "output_type": "stream",
          "name": "stdout",
          "text": [
            "0.8585\n"
          ]
        }
      ]
    }
  ]
}